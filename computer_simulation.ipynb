{
 "cells": [
  {
   "cell_type": "markdown",
   "metadata": {},
   "source": [
    "## Lab 2"
   ]
  },
  {
   "cell_type": "code",
   "execution_count": 1,
   "metadata": {},
   "outputs": [
    {
     "name": "stdout",
     "output_type": "stream",
     "text": [
      "value of m = 15 and n = 16\n"
     ]
    }
   ],
   "source": [
    "print(\"value of m = {} and n = {}\".format(15, 16))"
   ]
  },
  {
   "cell_type": "code",
   "execution_count": 2,
   "metadata": {},
   "outputs": [
    {
     "name": "stdout",
     "output_type": "stream",
     "text": [
      "value of m = 15 and n = 16\n"
     ]
    }
   ],
   "source": [
    "v = 16\n",
    "print(f\"value of m = {15} and n = {v}\")"
   ]
  },
  {
   "cell_type": "code",
   "execution_count": 7,
   "metadata": {},
   "outputs": [
    {
     "name": "stdout",
     "output_type": "stream",
     "text": [
      "a=100 \tb=50 \tc=0\n",
      "a=96.0 \tb=46.0 \tc=8.0\n",
      "a=92.4688 \tb=42.4688 \tc=15.0624\n",
      "a=89.330181301248 \tb=39.330181301248004 \tc=21.339637397504\n",
      "a=86.52375144772635 \tb=36.523751447726355 \tc=26.952497104547298\n",
      "a=84.00100435338598 \tb=34.00100435338597 \tc=31.997991293228058\n",
      "a=81.72250913987801 \tb=31.722509139878003 \tc=36.554981720244\n",
      "a=79.65586570172323 \tb=29.655865701723215 \tc=40.68826859655357\n",
      "a=77.77419243095869 \tb=27.77419243095868 \tc=44.45161513808264\n",
      "a=76.05499044459442 \tb=26.054990444594413 \tc=47.890019110811174\n",
      "a=74.47927880897848 \tb=24.479278808978474 \tc=51.04144238204305\n",
      "a=73.03092787228958 \tb=23.03092787228958 \tc=53.93814425542084\n",
      "a=71.6961394753222 \tb=21.696139475322198 \tc=56.607721049355604\n",
      "a=70.46303746601308 \tb=20.463037466013073 \tc=59.07392506797385\n",
      "a=69.32134203051778 \tb=19.32134203051778 \tc=61.35731593896444\n",
      "a=68.26210840619666 \tb=18.26210840619666 \tc=63.47578318760668\n",
      "a=67.27751554383457 \tb=17.27751554383457 \tc=65.44496891233085\n",
      "a=66.3606938811697 \tb=16.3606938811697 \tc=67.2786122376606\n",
      "a=65.50558400495177 \tb=15.505584004951768 \tc=68.98883199009646\n",
      "a=64.70681990288402 \tb=14.706819902884023 \tc=70.58636019423194\n",
      "a=63.95963193748281 \tb=13.959631937482817 \tc=72.08073612503436\n",
      "a=63.25976574814452 \tb=13.259765748144519 \tc=73.48046850371097\n",
      "a=62.603414101762944 \tb=12.603414101762947 \tc=74.79317179647411\n",
      "a=61.987159334435304 \tb=11.98715933443531 \tc=76.02568133112939\n",
      "a=61.40792450619681 \tb=11.407924506196812 \tc=77.18415098760639\n",
      "a=60.86293176291519 \tb=10.862931762915192 \tc=78.27413647416962\n",
      "a=60.34966669050481 \tb=10.349666690504817 \tc=79.30066661899038\n",
      "a=59.86584767572478 \tb=9.865847675724787 \tc=80.26830464855044\n",
      "a=59.40939946933702 \tb=9.409399469337021 \tc=81.18120106132596\n",
      "a=58.97843029207696 \tb=8.978430292076958 \tc=82.04313941584608\n",
      "a=58.5712119398693 \tb=8.5712119398693 \tc=82.8575761202614\n",
      "a=58.18616243820406 \tb=8.186162438204054 \tc=83.62767512359189\n",
      "a=57.821830871328885 \tb=7.8218308713288796 \tc=84.35633825734223\n",
      "a=57.476884073583456 \tb=7.476884073583454 \tc=85.04623185283309\n",
      "a=57.15009492065084 \tb=7.1500949206508375 \tc=85.69981015869833\n",
      "a=56.84033199995709 \tb=6.84033199995709 \tc=86.31933600008583\n",
      "a=56.54655047366311 \tb=6.546550473663114 \tc=86.90689905267378\n",
      "a=56.267783976043745 \tb=6.2677839760437495 \tc=87.46443204791251\n",
      "a=56.0031374106353 \tb=6.0031374106353015 \tc=87.9937251787294\n",
      "a=55.75178053222886 \tb=5.75178053222886 \tc=88.49643893554229\n",
      "a=55.51294221529407 \tb=5.512942215294073 \tc=88.97411556941186\n",
      "a=55.28590532430085 \tb=5.285905324300855 \tc=89.4281893513983\n",
      "a=55.07000211312112 \tb=5.070002113121123 \tc=89.85999577375776\n",
      "a=54.86461009060938 \tb=4.864610090609387 \tc=90.27077981878124\n",
      "a=54.66914829788183 \tb=4.669148297881842 \tc=90.66170340423633\n",
      "a=54.48307394998532 \tb=4.483073949985325 \tc=91.03385210002936\n",
      "a=54.30587940077308 \tb=4.3058794007730885 \tc=91.38824119845384\n",
      "a=54.137089395050644 \tb=4.137089395050654 \tc=91.72582120989871\n",
      "a=53.97625857656048 \tb=3.976258576560495 \tc=92.04748284687903\n",
      "a=53.8229692242533 \tb=3.822969224253314 \tc=92.3540615514934\n",
      "a=53.6768291926418 \tb=3.6768291926418097 \tc=92.6463416147164\n",
      "a=53.53747003492958 \tb=3.5374700349295902 \tc=92.92505993014085\n",
      "a=53.40454529012 \tb=3.404545290120015 \tc=93.19090941976\n",
      "a=53.277728917493164 \tb=3.2777289174931834 \tc=93.44454216501367\n",
      "a=53.15671386374118 \tb=3.156713863741202 \tc=93.68657227251764\n",
      "a=53.04121074971201 \tb=3.041210749712029 \tc=93.91757850057598\n",
      "a=52.93094666516431 \tb=2.9309466651643317 \tc=94.13810666967137\n",
      "a=52.82566406120844 \tb=2.8256640612084625 \tc=94.34867187758312\n",
      "a=52.72511973122618 \tb=2.7251197312261963 \tc=94.54976053754764\n",
      "a=52.62908387204503 \tb=2.6290838720450433 \tc=94.74183225590994\n"
     ]
    }
   ],
   "source": [
    "a = [100]\n",
    "b = [50]\n",
    "c = [0]\n",
    "t = 0.1\n",
    "k1 = 0.008\n",
    "k2 = 0.002\n",
    "def chemical_reactor(k1, k2, a, b, c, dt, N):\n",
    "    i = 0\n",
    "    while i <= N:\n",
    "\n",
    "        a.append(a[i] + (k2*c[i] - k1*a[i]*b[i])*t)\n",
    "        b.append(b[i] + (k2*c[i] - k1*a[i]*b[i])*t)\n",
    "        c.append(c[i] + (2*k1*a[i]*b[i] - 2*k2*c[i])*t)\n",
    "\n",
    "        i += 1\n",
    "    return a, b, c\n",
    "\n",
    "a, b, c = chemical_reactor(k1, k2, a, b, c, dt, 60)\n",
    "for i in range(60):\n",
    "    print(f'a={a[i]} \\tb={b[i]} \\tc={c[i]}')\n"
   ]
  },
  {
   "cell_type": "code",
   "execution_count": 8,
   "metadata": {},
   "outputs": [],
   "source": [
    "import matplotlib.pyplot as plt\n",
    "import numpy as np"
   ]
  },
  {
   "cell_type": "code",
   "execution_count": 9,
   "metadata": {},
   "outputs": [
    {
     "data": {
      "image/png": "[encoded data removed]",
      "text/plain": [
       "<Figure size 432x288 with 1 Axes>"
      ]
     },
     "metadata": {
      "needs_background": "light"
     },
     "output_type": "display_data"
    }
   ],
   "source": [
    "plt.plot(np.array(a), '-ko', label='a')\n",
    "plt.plot(np.array(b), '-bo', label='b')\n",
    "plt.plot(np.array(c), '-ro', label='c')\n",
    "plt.title('Chemical reactor')\n",
    "plt.legend()\n",
    "plt.show()"
   ]
  },
  {
   "cell_type": "markdown",
   "metadata": {},
   "source": [
    "## Lab3"
   ]
  },
  {
   "cell_type": "markdown",
   "metadata": {},
   "source": [
    "## Middle Square method "
   ]
  },
  {
   "cell_type": "code",
   "execution_count": 9,
   "metadata": {},
   "outputs": [],
   "source": [
    "def mid_square(seed, iterations=10):\n",
    "    \"\"\"\n",
    "    Generate a sequence of random 2-digit numbers\n",
    "    \n",
    "    seed: a 4 digit number\n",
    "    \"\"\"\n",
    "    series = []\n",
    "    for i in range(iterations):\n",
    "        a = int((str(seed)).zfill(4)[1:3])\n",
    "\n",
    "        series.append(a)\n",
    "        seed = a**2\n",
    "\n",
    "    return series\n"
   ]
  },
  {
   "cell_type": "code",
   "execution_count": 10,
   "metadata": {},
   "outputs": [
    {
     "data": {
      "text/plain": [
       "[23, 52, 70, 90, 10, 10, 10, 10, 10, 10]"
      ]
     },
     "execution_count": 10,
     "metadata": {},
     "output_type": "execute_result"
    }
   ],
   "source": [
    "mid_square(1234)"
   ]
  },
  {
   "cell_type": "code",
   "execution_count": 6,
   "metadata": {},
   "outputs": [
    {
     "data": {
      "text/plain": [
       "529"
      ]
     },
     "execution_count": 6,
     "metadata": {},
     "output_type": "execute_result"
    }
   ],
   "source": [
    "23**2"
   ]
  },
  {
   "cell_type": "markdown",
   "metadata": {},
   "source": [
    "### LCM (Linear Congruential Method)"
   ]
  },
  {
   "cell_type": "code",
   "execution_count": 12,
   "metadata": {},
   "outputs": [],
   "source": [
    "def lcm(a=13, c=57, x=12, m=100, iterations=10):\n",
    "\n",
    "    random_numbers = []\n",
    "    for i in range(iterations):\n",
    "        x = (a * x + c) % m\n",
    "        random_numbers.append(x)\n",
    "\n",
    "    return random_numbers\n",
    "\n"
   ]
  },
  {
   "cell_type": "code",
   "execution_count": 13,
   "metadata": {},
   "outputs": [
    {
     "data": {
      "text/plain": [
       "[13, 26, 95, 92, 53, 46, 55, 72, 93, 66]"
      ]
     },
     "execution_count": 13,
     "metadata": {},
     "output_type": "execute_result"
    }
   ],
   "source": [
    "lcm()"
   ]
  },
  {
   "cell_type": "code",
   "execution_count": null,
   "metadata": {},
   "outputs": [],
   "source": []
  }
 ],
 "metadata": {
  "kernelspec": {
   "display_name": "Python 3.10.4 64-bit",
   "language": "python",
   "name": "python3"
  },
  "language_info": {
   "codemirror_mode": {
    "name": "ipython",
    "version": 3
   },
   "file_extension": ".py",
   "mimetype": "text/x-python",
   "name": "python",
   "nbconvert_exporter": "python",
   "pygments_lexer": "ipython3",
   "version": "3.10.4"
  },
  "orig_nbformat": 4,
  "vscode": {
   "interpreter": {
    "hash": "916dbcbb3f70747c44a77c7bcd40155683ae19c65e1c03b4aa3499c5328201f1"
   }
  }
 },
 "nbformat": 4,
 "nbformat_minor": 2
}
