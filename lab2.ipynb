{
 "cells": [
  {
   "cell_type": "code",
   "execution_count": 1,
   "metadata": {},
   "outputs": [
    {
     "name": "stdout",
     "output_type": "stream",
     "text": [
      "value of m = 15 and n = 16\n"
     ]
    }
   ],
   "source": [
    "print(\"value of m = {} and n = {}\".format(15, 16))"
   ]
  },
  {
   "cell_type": "code",
   "execution_count": 2,
   "metadata": {},
   "outputs": [
    {
     "name": "stdout",
     "output_type": "stream",
     "text": [
      "value of m = 15 and n = 16\n"
     ]
    }
   ],
   "source": [
    "v = 16\n",
    "print(f\"value of m = {15} and n = {v}\")"
   ]
  },
  {
   "cell_type": "code",
   "execution_count": 3,
   "metadata": {},
   "outputs": [
    {
     "name": "stdout",
     "output_type": "stream",
     "text": [
      "a=100 \tb=50 \tc=0\n",
      "a=99.6 \tb=49.6 \tc=0.8\n",
      "a=99.2048032 \tb=49.2048032 \tc=1.5903936\n",
      "a=98.81432678243594 \tb=48.81432678243594 \tc=2.3713464351281166\n",
      "a=98.42848982229711 \tb=48.4284898222971 \tc=3.14302035540579\n",
      "a=98.04721323329757 \tb=48.047213233297555 \tc=3.9055735334048842\n",
      "a=97.67041971587616 \tb=47.67041971587616 \tc=4.659160568247683\n",
      "a=97.298033706953 \tb=47.29803370695299 \tc=5.403932586094009\n",
      "a=96.9299813313734 \tb=46.92998133137338 \tc=6.140037337253239\n",
      "a=96.5661903549736 \tb=46.566190354973585 \tc=6.867619290052825\n",
      "a=96.20659013920546 \tb=46.20659013920544 \tc=7.586819721589113\n",
      "a=95.85111159725967 \tb=45.851111597259646 \tc=8.297776805480696\n",
      "a=95.4996871516304 \tb=45.49968715163037 \tc=9.000625696739252\n",
      "a=95.15225069306611 \tb=45.15225069306608 \tc=9.695498613867825\n",
      "a=94.80873754085417 \tb=44.80873754085413 \tc=10.382524918291717\n",
      "a=94.46908440438871 \tb=44.46908440438867 \tc=11.061831191222643\n",
      "a=94.1332293459738 \tb=44.13322934597377 \tc=11.733541308052446\n",
      "a=93.80111174481573 \tb=43.801111744815685 \tc=12.397776510368606\n",
      "a=93.47267226216013 \tb=43.47267226216008 \tc=13.05465547567981\n",
      "a=93.14785280753195 \tb=43.1478528075319 \tc=13.704294384936173\n",
      "a=92.82659650603749 \tb=42.82659650603743 \tc=14.3468069879251\n",
      "a=92.50884766668982 \tb=42.50884766668977 \tc=14.982304666620433\n",
      "a=92.1945517517204 \tb=42.194551751720354 \tc=15.61089649655926\n",
      "a=91.88365534684115 \tb=41.88365534684112 \tc=16.232689306317738\n",
      "a=91.57610613242288 \tb=41.576106132422844 \tc=16.84778773515429\n",
      "a=91.27185285555713 \tb=41.27185285555709 \tc=17.456294288885786\n",
      "a=90.97084530297022 \tb=40.97084530297018 \tc=18.05830939405961\n",
      "a=90.67303427475902 \tb=40.67303427475899 \tc=18.653931450481995\n",
      "a=90.37837155891974 \tb=40.3783715589197 \tc=19.243256882160562\n",
      "a=90.08680990664169 \tb=40.086809906641655 \tc=19.826380186716662\n",
      "a=89.79830300833956 \tb=39.79830300833952 \tc=20.40339398332092\n",
      "a=89.51280547039838 \tb=39.51280547039834 \tc=20.974389059203283\n",
      "a=89.23027279260664 \tb=39.230272792606605 \tc=21.539454414786746\n",
      "a=88.95066134625392 \tb=38.95066134625389 \tc=22.09867730749218\n",
      "a=88.6739283528702 \tb=38.67392835287018 \tc=22.652143294259602\n",
      "a=88.40003186358517 \tb=38.40003186358515 \tc=23.199936272829664\n",
      "a=88.12893073908634 \tb=38.128930739086314 \tc=23.74213852182733\n",
      "a=87.86058463015596 \tb=37.86058463015592 \tc=24.278830739688114\n",
      "a=87.59495395876715 \tb=37.594953958767114 \tc=24.810092082465726\n",
      "a=87.33199989972078 \tb=37.33199989972075 \tc=25.336000200558455\n",
      "a=87.07168436280489 \tb=37.07168436280486 \tc=25.85663127439024\n",
      "a=86.81396997545953 \tb=36.81396997545949 \tc=26.37206004908097\n",
      "a=86.55882006593035 \tb=36.55882006593031 \tc=26.88235986813933\n",
      "a=86.30619864689494 \tb=36.306198646894906 \tc=27.387602706210135\n",
      "a=86.05607039954646 \tb=36.05607039954643 \tc=27.887859200907094\n",
      "a=85.80840065811972 \tb=35.808400658119695 \tc=28.383198683760558\n",
      "a=85.56315539484552 \tb=35.563155394845495 \tc=28.873689210308953\n",
      "a=85.32030120531931 \tb=35.32030120531928 \tc=29.35939758936137\n",
      "a=85.07980529427107 \tb=35.07980529427103 \tc=29.840389411457867\n",
      "a=84.8416354617235 \tb=34.84163546172346 \tc=30.316729076553013\n",
      "a=84.60576008952633 \tb=34.60576008952629 \tc=30.78847982094736\n",
      "a=84.37214812825474 \tb=34.3721481282547 \tc=31.255703743490546\n",
      "a=84.14076908446053 \tb=34.140769084460494 \tc=31.718461831078955\n",
      "a=83.91159300826503 \tb=33.911593008265 \tc=32.17681398346995\n",
      "a=83.68459048128298 \tb=33.68459048128295 \tc=32.630819037434044\n",
      "a=83.45973260486726 \tb=33.459732604867234 \tc=33.08053479026549\n",
      "a=83.23699098866446 \tb=33.23699098866443 \tc=33.52601802267109\n",
      "a=83.01633773947181 \tb=33.01633773947178 \tc=33.96732452105639\n",
      "a=82.79774545038619 \tb=32.79774545038617 \tc=34.404509099227624\n",
      "a=82.58118719023636 \tb=32.58118719023634 \tc=34.83762561952728\n"
     ]
    }
   ],
   "source": [
    "a = [100]\n",
    "b = [50]\n",
    "c = [0]\n",
    "dt = 0.01\n",
    "k1 = 0.008\n",
    "k2 = 0.002\n",
    "def chemical_reactor(k1, k2, a, b, c, dt, N):\n",
    "    T = N*dt\n",
    "    i = 0\n",
    "    while i <= N:\n",
    "\n",
    "        a.append(a[i] + (k2*c[i] - k1*a[i]*b[i])*dt)\n",
    "        b.append(b[i] + (k2*c[i] - k1*a[i]*b[i])*dt)\n",
    "        c.append(c[i] + (2*k1*a[i]*b[i] - 2*k2*c[i])*dt)\n",
    "\n",
    "        i += 1\n",
    "    return a, b, c\n",
    "\n",
    "a, b, c = chemical_reactor(k1, k2, a, b, c, dt, 60)\n",
    "for i in range(60):\n",
    "    print(f'a={a[i]} \\tb={b[i]} \\tc={c[i]}')\n"
   ]
  },
  {
   "cell_type": "code",
   "execution_count": 4,
   "metadata": {},
   "outputs": [],
   "source": [
    "import matplotlib.pyplot as plt\n",
    "import numpy as np"
   ]
  },
  {
   "cell_type": "code",
   "execution_count": 6,
   "metadata": {},
   "outputs": [
    {
     "data": {
      "image/png": "[encoded data removed]",
      "text/plain": [
       "<Figure size 432x288 with 1 Axes>"
      ]
     },
     "metadata": {
      "needs_background": "light"
     },
     "output_type": "display_data"
    }
   ],
   "source": [
    "plt.plot(np.array(a), '-ko', label='a')\n",
    "plt.plot(np.array(b), '-bo', label='b')\n",
    "plt.plot(np.array(c), '-ro', label='c')\n",
    "plt.title('Chemical reactor')\n",
    "plt.legend()\n",
    "plt.show()"
   ]
  },
  {
   "cell_type": "code",
   "execution_count": null,
   "metadata": {},
   "outputs": [],
   "source": []
  }
 ],
 "metadata": {
  "kernelspec": {
   "display_name": "Python 3.10.4 64-bit",
   "language": "python",
   "name": "python3"
  },
  "language_info": {
   "codemirror_mode": {
    "name": "ipython",
    "version": 3
   },
   "file_extension": ".py",
   "mimetype": "text/x-python",
   "name": "python",
   "nbconvert_exporter": "python",
   "pygments_lexer": "ipython3",
   "version": "3.10.4"
  },
  "orig_nbformat": 4,
  "vscode": {
   "interpreter": {
    "hash": "916dbcbb3f70747c44a77c7bcd40155683ae19c65e1c03b4aa3499c5328201f1"
   }
  }
 },
 "nbformat": 4,
 "nbformat_minor": 2
}
